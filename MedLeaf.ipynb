{
  "nbformat": 4,
  "nbformat_minor": 0,
  "metadata": {
    "colab": {
      "provenance": []
    },
    "kernelspec": {
      "name": "python3",
      "display_name": "Python 3"
    },
    "language_info": {
      "name": "python"
    }
  },
  "cells": [
    {
      "cell_type": "code",
      "execution_count": null,
      "metadata": {
        "id": "7-_m7Hny45CY"
      },
      "outputs": [],
      "source": [
        "import pandas as pd\n",
        "import numpy as np\n",
        "import tensorflow as tf\n",
        "from tensorflow.keras.preprocessing.text import Tokenizer\n",
        "from tensorflow.keras.preprocessing.sequence import pad_sequences\n",
        "from tensorflow.keras.models import Sequential, load_model\n",
        "from tensorflow.keras.layers import Embedding, LSTM, Dense, Dropout, Bidirectional\n",
        "from sklearn.model_selection import train_test_split\n",
        "from sklearn.preprocessing import LabelEncoder\n",
        "import pickle\n",
        "import matplotlib.pyplot as plt\n",
        "import random"
      ]
    },
    {
      "cell_type": "code",
      "source": [
        "file_path = \"expanded_organic_medicine_dataset.csv\"  # Upload this file in Colab environment\n",
        "df = pd.read_csv(file_path)\n",
        "print(\"Dataset Loaded.\\nSample:\")\n",
        "print(df.head())\n"
      ],
      "metadata": {
        "colab": {
          "base_uri": "https://localhost:8080/"
        },
        "id": "RTvYLV-w5CBB",
        "outputId": "1ec9f14c-907c-4458-e822-e9eab9a0e154"
      },
      "execution_count": null,
      "outputs": [
        {
          "output_type": "stream",
          "name": "stdout",
          "text": [
            "Dataset Loaded.\n",
            "Sample:\n",
            "                                      symptoms        medicine\n",
            "0                     itching, diarrhea, cough    Neem Tablets\n",
            "1  vomiting, insomnia, joint pain, sore throat    Neem Tablets\n",
            "2                        joint pain, dizziness  Peppermint Oil\n",
            "3                           depression, stress    Amla Tablets\n",
            "4  itching, joint pain, sore throat, skin rash  Moringa Powder\n"
          ]
        }
      ]
    },
    {
      "cell_type": "code",
      "source": [
        "def synonym_replacement(text, synonym_dict):\n",
        "    words = text.split(', ')\n",
        "    new_texts = []\n",
        "    for _ in range(2):  # Generate two augmented versions\n",
        "        new_words = [random.choice(synonym_dict.get(word.strip(), [word.strip()])) for word in words]\n",
        "        new_texts.append(', '.join(new_words))\n",
        "    return new_texts"
      ],
      "metadata": {
        "id": "iAn9z8rt5HTt"
      },
      "execution_count": null,
      "outputs": []
    },
    {
      "cell_type": "code",
      "source": [
        "synonym_dict = {\n",
        "    \"fever\": [\"high temperature\", \"feverish\"],\n",
        "    \"cough\": [\"dry cough\", \"persistent cough\"],\n",
        "    \"sore throat\": [\"throat pain\", \"throat irritation\"],\n",
        "    \"headache\": [\"migraine\", \"head pain\"],\n",
        "    \"nausea\": [\"queasiness\", \"sick feeling\"],\n",
        "    \"anxiety\": [\"nervousness\", \"worry\"],\n",
        "    \"stress\": [\"tension\", \"pressure\"]\n",
        "}\n"
      ],
      "metadata": {
        "id": "TzN2GOVf5Ls9"
      },
      "execution_count": null,
      "outputs": []
    },
    {
      "cell_type": "code",
      "source": [
        "augmented_rows = []\n",
        "for idx, row in df.iterrows():\n",
        "    new_symptoms = synonym_replacement(row['symptoms'], synonym_dict)\n",
        "    for new_symptom in new_symptoms:\n",
        "        augmented_rows.append({\"symptoms\": new_symptom, \"medicine\": row['medicine']})\n",
        "\n",
        "aug_df = pd.DataFrame(augmented_rows)\n",
        "df = pd.concat([df, aug_df], ignore_index=True)\n",
        "print(\"\\nData augmented. Total records:\", len(df))"
      ],
      "metadata": {
        "id": "B7pHDimh5OLQ",
        "colab": {
          "base_uri": "https://localhost:8080/"
        },
        "outputId": "f28fd441-de8d-4abc-f2b2-ee953a6dc15e"
      },
      "execution_count": null,
      "outputs": [
        {
          "output_type": "stream",
          "name": "stdout",
          "text": [
            "\n",
            "Data augmented. Total records: 3000\n"
          ]
        }
      ]
    },
    {
      "cell_type": "code",
      "source": [
        "symptom_tokenizer = Tokenizer(oov_token=\"<OOV>\")\n",
        "symptom_tokenizer.fit_on_texts(df['symptoms'])\n",
        "X = symptom_tokenizer.texts_to_sequences(df['symptoms'])\n",
        "X = pad_sequences(X, padding='post')"
      ],
      "metadata": {
        "id": "NKM_6dU35RR1"
      },
      "execution_count": null,
      "outputs": []
    },
    {
      "cell_type": "code",
      "source": [
        "label_encoder = LabelEncoder()\n",
        "y = label_encoder.fit_transform(df['medicine'])\n",
        "num_classes = len(np.unique(y))"
      ],
      "metadata": {
        "id": "ezLaRfLO5UGX"
      },
      "execution_count": null,
      "outputs": []
    },
    {
      "cell_type": "code",
      "source": [
        "X_train, X_test, y_train, y_test = train_test_split(X, y, test_size=0.2, random_state=42)"
      ],
      "metadata": {
        "id": "1AojVRCb5X8f"
      },
      "execution_count": null,
      "outputs": []
    },
    {
      "cell_type": "code",
      "source": [
        "model = Sequential([\n",
        "    Embedding(input_dim=len(symptom_tokenizer.word_index) + 1, output_dim=64, input_length=X.shape[1]),\n",
        "    Bidirectional(LSTM(64, return_sequences=True)),\n",
        "    Dropout(0.3),\n",
        "    Bidirectional(LSTM(32)),\n",
        "    Dense(64, activation='relu'),\n",
        "    Dropout(0.3),\n",
        "    Dense(num_classes, activation='softmax')\n",
        "])\n",
        "\n",
        "model.compile(loss='sparse_categorical_crossentropy', optimizer='adam', metrics=['accuracy'])"
      ],
      "metadata": {
        "id": "--MmKanT5az7",
        "colab": {
          "base_uri": "https://localhost:8080/"
        },
        "outputId": "dc024004-c3e0-46e4-8f2a-dc18e9508e23"
      },
      "execution_count": null,
      "outputs": [
        {
          "output_type": "stream",
          "name": "stderr",
          "text": [
            "/usr/local/lib/python3.11/dist-packages/keras/src/layers/core/embedding.py:90: UserWarning: Argument `input_length` is deprecated. Just remove it.\n",
            "  warnings.warn(\n"
          ]
        }
      ]
    },
    {
      "cell_type": "code",
      "source": [
        "history = model.fit(X_train, y_train, epochs=15, batch_size=4, validation_data=(X_test, y_test))"
      ],
      "metadata": {
        "id": "LWJbtxgJ5e0A",
        "colab": {
          "base_uri": "https://localhost:8080/"
        },
        "outputId": "9ad24dbb-d156-4281-a448-abf8e45bcdb6"
      },
      "execution_count": null,
      "outputs": [
        {
          "output_type": "stream",
          "name": "stdout",
          "text": [
            "Epoch 1/15\n",
            "\u001b[1m600/600\u001b[0m \u001b[32m━━━━━━━━━━━━━━━━━━━━\u001b[0m\u001b[37m\u001b[0m \u001b[1m18s\u001b[0m 17ms/step - accuracy: 0.0712 - loss: 2.7073 - val_accuracy: 0.0667 - val_loss: 2.6970\n",
            "Epoch 2/15\n",
            "\u001b[1m600/600\u001b[0m \u001b[32m━━━━━━━━━━━━━━━━━━━━\u001b[0m\u001b[37m\u001b[0m \u001b[1m7s\u001b[0m 12ms/step - accuracy: 0.0851 - loss: 2.6925 - val_accuracy: 0.0717 - val_loss: 2.6907\n",
            "Epoch 3/15\n",
            "\u001b[1m600/600\u001b[0m \u001b[32m━━━━━━━━━━━━━━━━━━━━\u001b[0m\u001b[37m\u001b[0m \u001b[1m10s\u001b[0m 12ms/step - accuracy: 0.0923 - loss: 2.6767 - val_accuracy: 0.0733 - val_loss: 2.7043\n",
            "Epoch 4/15\n",
            "\u001b[1m600/600\u001b[0m \u001b[32m━━━━━━━━━━━━━━━━━━━━\u001b[0m\u001b[37m\u001b[0m \u001b[1m9s\u001b[0m 14ms/step - accuracy: 0.1087 - loss: 2.6623 - val_accuracy: 0.1000 - val_loss: 2.6798\n",
            "Epoch 5/15\n",
            "\u001b[1m600/600\u001b[0m \u001b[32m━━━━━━━━━━━━━━━━━━━━\u001b[0m\u001b[37m\u001b[0m \u001b[1m10s\u001b[0m 14ms/step - accuracy: 0.1106 - loss: 2.6395 - val_accuracy: 0.0983 - val_loss: 2.6753\n",
            "Epoch 6/15\n",
            "\u001b[1m600/600\u001b[0m \u001b[32m━━━━━━━━━━━━━━━━━━━━\u001b[0m\u001b[37m\u001b[0m \u001b[1m8s\u001b[0m 13ms/step - accuracy: 0.1664 - loss: 2.5480 - val_accuracy: 0.1300 - val_loss: 2.6388\n",
            "Epoch 7/15\n",
            "\u001b[1m600/600\u001b[0m \u001b[32m━━━━━━━━━━━━━━━━━━━━\u001b[0m\u001b[37m\u001b[0m \u001b[1m10s\u001b[0m 13ms/step - accuracy: 0.1722 - loss: 2.5252 - val_accuracy: 0.1350 - val_loss: 2.6154\n",
            "Epoch 8/15\n",
            "\u001b[1m600/600\u001b[0m \u001b[32m━━━━━━━━━━━━━━━━━━━━\u001b[0m\u001b[37m\u001b[0m \u001b[1m9s\u001b[0m 15ms/step - accuracy: 0.1875 - loss: 2.4813 - val_accuracy: 0.1217 - val_loss: 2.6202\n",
            "Epoch 9/15\n",
            "\u001b[1m600/600\u001b[0m \u001b[32m━━━━━━━━━━━━━━━━━━━━\u001b[0m\u001b[37m\u001b[0m \u001b[1m10s\u001b[0m 15ms/step - accuracy: 0.2146 - loss: 2.4073 - val_accuracy: 0.1600 - val_loss: 2.5519\n",
            "Epoch 10/15\n",
            "\u001b[1m600/600\u001b[0m \u001b[32m━━━━━━━━━━━━━━━━━━━━\u001b[0m\u001b[37m\u001b[0m \u001b[1m8s\u001b[0m 13ms/step - accuracy: 0.2401 - loss: 2.2855 - val_accuracy: 0.1900 - val_loss: 2.4921\n",
            "Epoch 11/15\n",
            "\u001b[1m600/600\u001b[0m \u001b[32m━━━━━━━━━━━━━━━━━━━━\u001b[0m\u001b[37m\u001b[0m \u001b[1m9s\u001b[0m 15ms/step - accuracy: 0.2791 - loss: 2.1867 - val_accuracy: 0.2233 - val_loss: 2.3902\n",
            "Epoch 12/15\n",
            "\u001b[1m600/600\u001b[0m \u001b[32m━━━━━━━━━━━━━━━━━━━━\u001b[0m\u001b[37m\u001b[0m \u001b[1m9s\u001b[0m 14ms/step - accuracy: 0.3413 - loss: 2.0348 - val_accuracy: 0.2383 - val_loss: 2.3537\n",
            "Epoch 13/15\n",
            "\u001b[1m600/600\u001b[0m \u001b[32m━━━━━━━━━━━━━━━━━━━━\u001b[0m\u001b[37m\u001b[0m \u001b[1m9s\u001b[0m 13ms/step - accuracy: 0.3551 - loss: 1.9541 - val_accuracy: 0.3017 - val_loss: 2.2129\n",
            "Epoch 14/15\n",
            "\u001b[1m600/600\u001b[0m \u001b[32m━━━━━━━━━━━━━━━━━━━━\u001b[0m\u001b[37m\u001b[0m \u001b[1m10s\u001b[0m 12ms/step - accuracy: 0.4042 - loss: 1.7701 - val_accuracy: 0.3017 - val_loss: 2.1027\n",
            "Epoch 15/15\n",
            "\u001b[1m600/600\u001b[0m \u001b[32m━━━━━━━━━━━━━━━━━━━━\u001b[0m\u001b[37m\u001b[0m \u001b[1m11s\u001b[0m 13ms/step - accuracy: 0.4576 - loss: 1.6539 - val_accuracy: 0.3617 - val_loss: 1.9711\n"
          ]
        }
      ]
    },
    {
      "cell_type": "code",
      "source": [
        "plt.plot(history.history['accuracy'], label='Train Accuracy')\n",
        "plt.plot(history.history['val_accuracy'], label='Val Accuracy')\n",
        "plt.title('Model Accuracy')\n",
        "plt.ylabel('Accuracy')\n",
        "plt.xlabel('Epoch')\n",
        "plt.legend()\n",
        "plt.grid(True)\n",
        "plt.show()"
      ],
      "metadata": {
        "id": "6DNIYXl75iYc",
        "colab": {
          "base_uri": "https://localhost:8080/",
          "height": 472
        },
        "outputId": "3ceac2d7-525b-4c24-fdab-20805e27329d"
      },
      "execution_count": null,
      "outputs": [
        {
          "output_type": "display_data",
          "data": {
            "text/plain": [
              "<Figure size 640x480 with 1 Axes>"
            ],
            "image/png": "[encoded data removed]"
          },
          "metadata": {}
        }
      ]
    },
    {
      "cell_type": "code",
      "source": [
        "model.save(\"organic_medicine_model.h5\")\n",
        "with open(\"symptom_tokenizer.pkl\", \"wb\") as f:\n",
        "    pickle.dump(symptom_tokenizer, f)\n",
        "with open(\"label_encoder.pkl\", \"wb\") as f:\n",
        "    pickle.dump(label_encoder, f)\n",
        "\n",
        "print(\"Model and preprocessing objects saved.\")"
      ],
      "metadata": {
        "id": "KTSgdWau5lGE",
        "colab": {
          "base_uri": "https://localhost:8080/"
        },
        "outputId": "4a20eb52-a6a5-489b-e878-af6e06a238d7"
      },
      "execution_count": null,
      "outputs": [
        {
          "output_type": "stream",
          "name": "stderr",
          "text": [
            "WARNING:absl:You are saving your model as an HDF5 file via `model.save()` or `keras.saving.save_model(model)`. This file format is considered legacy. We recommend using instead the native Keras format, e.g. `model.save('my_model.keras')` or `keras.saving.save_model(model, 'my_model.keras')`. \n"
          ]
        },
        {
          "output_type": "stream",
          "name": "stdout",
          "text": [
            "Model and preprocessing objects saved.\n"
          ]
        }
      ]
    },
    {
      "cell_type": "code",
      "source": [
        "def predict_medicines(symptom_text, top_k=5):\n",
        "    with open(\"symptom_tokenizer.pkl\", \"rb\") as f:\n",
        "        tokenizer = pickle.load(f)\n",
        "    with open(\"label_encoder.pkl\", \"rb\") as f:\n",
        "        label_encoder = pickle.load(f)\n",
        "    model = load_model(\"organic_medicine_model.h5\")\n",
        "\n",
        "    sequence = tokenizer.texts_to_sequences([symptom_text])\n",
        "    padded = pad_sequences(sequence, maxlen=X.shape[1], padding='post')\n",
        "    prediction = model.predict(padded)[0]\n",
        "    top_indices = prediction.argsort()[-top_k:][::-1]\n",
        "    recommended_medicines = label_encoder.inverse_transform(top_indices)\n",
        "    return recommended_medicines"
      ],
      "metadata": {
        "id": "qbIrQN3A5nwA"
      },
      "execution_count": null,
      "outputs": []
    },
    {
      "cell_type": "code",
      "source": [
        "user_input = input(\"Enter symptoms separated by commas (e.g., headache, nausea): \")\n",
        "recommendations = predict_medicines(user_input)\n",
        "print(f\"\\nInput Symptoms: {user_input}\\nRecommended Organic Medicines: {', '.join(recommendations)}\")"
      ],
      "metadata": {
        "id": "9Es_nsI05qqN",
        "colab": {
          "base_uri": "https://localhost:8080/"
        },
        "outputId": "441d3935-d1ef-4ee6-fd90-26aed0f2900f"
      },
      "execution_count": null,
      "outputs": [
        {
          "name": "stdout",
          "output_type": "stream",
          "text": [
            "Enter symptoms separated by commas (e.g., headache, nausea): body pain,sneezing,cold,cough\n"
          ]
        },
        {
          "output_type": "stream",
          "name": "stderr",
          "text": [
            "WARNING:absl:Compiled the loaded model, but the compiled metrics have yet to be built. `model.compile_metrics` will be empty until you train or evaluate the model.\n"
          ]
        },
        {
          "output_type": "stream",
          "name": "stdout",
          "text": [
            "\u001b[1m1/1\u001b[0m \u001b[32m━━━━━━━━━━━━━━━━━━━━\u001b[0m\u001b[37m\u001b[0m \u001b[1m1s\u001b[0m 638ms/step\n",
            "\n",
            "Input Symptoms: body pain,sneezing,cold,cough\n",
            "Recommended Organic Medicines: Chamomile Tea, Peppermint Oil, Turmeric Capsules, Arjuna Bark, Amla Tablets\n"
          ]
        }
      ]
    }
  ]
}